{
 "cells": [
  {
   "cell_type": "markdown",
   "id": "b66f1389-b165-467e-b59f-cb571a892193",
   "metadata": {},
   "source": [
    "__Import necessary libraries__"
   ]
  },
  {
   "cell_type": "code",
   "execution_count": 75,
   "id": "08683b52-28a7-480f-8d6a-e0cf38adbec9",
   "metadata": {},
   "outputs": [],
   "source": [
    "import numpy as np\n",
    "import pandas as pd\n",
    "import nltk\n",
    "from sklearn.feature_extraction.text import CountVectorizer, TfidfVectorizer\n",
    "from sklearn.preprocessing import LabelBinarizer\n",
    "from nltk.corpus import stopwords\n",
    "from nltk.stem.porter import PorterStemmer\n",
    "from bs4 import BeautifulSoup\n",
    "import re\n",
    "from nltk.tokenize.toktok import ToktokTokenizer\n",
    "from sklearn.linear_model import LogisticRegression\n",
    "from sklearn.metrics import accuracy_score, classification_report, confusion_matrix"
   ]
  },
  {
   "cell_type": "markdown",
   "id": "8ef9a06e-b320-41ed-aada-8ae8ed100b23",
   "metadata": {},
   "source": [
    "__Load the dataset__\n"
   ]
  },
  {
   "cell_type": "code",
   "execution_count": 76,
   "id": "3ca4bbca-4166-4893-8015-26f712e11d69",
   "metadata": {},
   "outputs": [],
   "source": [
    "imdb_data = pd.read_csv('IMDB Dataset.csv').sample(10000)"
   ]
  },
  {
   "cell_type": "markdown",
   "id": "cc1fafaf-cd17-4eb0-b421-97a0f4f94539",
   "metadata": {},
   "source": [
    "__Use only 1000 samples for this task__"
   ]
  },
  {
   "cell_type": "code",
   "execution_count": 77,
   "id": "775ab6ce-e3df-4a9d-8cc1-b327b6704585",
   "metadata": {},
   "outputs": [],
   "source": [
    "imdb_data = imdb_data.sample(10000, random_state=42).reset_index(drop=True)"
   ]
  },
  {
   "cell_type": "markdown",
   "id": "1b6ea05d-fd60-44cc-a0af-9d31a005423b",
   "metadata": {},
   "source": [
    "__Preprocessing functions__"
   ]
  },
  {
   "cell_type": "code",
   "execution_count": 78,
   "id": "38c44f26-ab2e-4dbe-a1c4-e4b8f90e7983",
   "metadata": {},
   "outputs": [],
   "source": [
    "def strip_html(text):\n",
    "    soup = BeautifulSoup(text, \"html.parser\")\n",
    "    return soup.get_text()"
   ]
  },
  {
   "cell_type": "markdown",
   "id": "ff150261-18c7-4209-abe8-a49e741a67a5",
   "metadata": {},
   "source": [
    "__remove unnecessary brackets__"
   ]
  },
  {
   "cell_type": "code",
   "execution_count": 79,
   "id": "bff03766-c0f0-4ce2-8922-9dc639d0942b",
   "metadata": {},
   "outputs": [],
   "source": [
    "def remove_between_square_brackets(text):\n",
    "    return re.sub(r'\\[[^]]*\\]', '', text)"
   ]
  },
  {
   "cell_type": "markdown",
   "id": "fd6a66a8-7f42-4675-809e-7fdfb692e8a0",
   "metadata": {},
   "source": [
    "__Remove Special Characters__"
   ]
  },
  {
   "cell_type": "code",
   "execution_count": 80,
   "id": "70cf4262-d28a-4004-829b-15463bfec658",
   "metadata": {},
   "outputs": [],
   "source": [
    "def remove_special_characters(text, remove_digits=True):\n",
    "    pattern = r'[^a-zA-z0-9\\s]'\n",
    "    text = re.sub(pattern, '', text)\n",
    "    return text"
   ]
  },
  {
   "cell_type": "markdown",
   "id": "1b641a57-cfda-4655-b559-86f5aa054c47",
   "metadata": {},
   "source": [
    "__ Convert to Base Case Here__"
   ]
  },
  {
   "cell_type": "code",
   "execution_count": 81,
   "id": "89d2492b-1800-45b8-8cda-714381865649",
   "metadata": {},
   "outputs": [],
   "source": [
    "def simple_stemmer(text):\n",
    "    ps = PorterStemmer()\n",
    "    text = ' '.join([ps.stem(word) for word in text.split()])\n",
    "    return text"
   ]
  },
  {
   "cell_type": "markdown",
   "id": "29a6d162-2cc8-422d-bef3-8d6fa612e5a3",
   "metadata": {},
   "source": [
    "__Tokenizer and stopwords setup__"
   ]
  },
  {
   "cell_type": "code",
   "execution_count": 82,
   "id": "550063e5-19e2-4c25-a621-28a356abfc4f",
   "metadata": {},
   "outputs": [],
   "source": [
    "tokenizer = ToktokTokenizer()\n",
    "stopword_list = stopwords.words('english')"
   ]
  },
  {
   "cell_type": "markdown",
   "id": "3531b9cd-e130-4a08-9357-be7866b22cac",
   "metadata": {},
   "source": [
    "__Remove Stopwards__"
   ]
  },
  {
   "cell_type": "code",
   "execution_count": 83,
   "id": "73093da7-f629-4b67-84dc-0081abeadcbe",
   "metadata": {},
   "outputs": [],
   "source": [
    "def remove_stopwords(text, is_lower_case=False):\n",
    "    tokens = tokenizer.tokenize(text)\n",
    "    tokens = [token.strip() for token in tokens]\n",
    "    filtered_tokens = [token for token in tokens if token.lower() not in stopword_list]\n",
    "    filtered_text = ' '.join(filtered_tokens)\n",
    "    return filtered_text"
   ]
  },
  {
   "cell_type": "markdown",
   "id": "636c10f6-2629-4476-ab35-c4fe0334efdf",
   "metadata": {},
   "source": [
    "__Preprocess Function__"
   ]
  },
  {
   "cell_type": "code",
   "execution_count": 84,
   "id": "a075c27b-3f61-4f3b-b0b3-e63cda6678f8",
   "metadata": {},
   "outputs": [],
   "source": [
    "def preprocess_text(text):\n",
    "    text = strip_html(text)\n",
    "    text = remove_between_square_brackets(text)\n",
    "    text = remove_special_characters(text)\n",
    "    text = simple_stemmer(text)\n",
    "    text = remove_stopwords(text)\n",
    "    return text"
   ]
  },
  {
   "cell_type": "markdown",
   "id": "eb79c1dc-b980-4f2f-b7df-652fddcbb562",
   "metadata": {},
   "source": [
    "__Preprocess the reviews in the dataset__\n"
   ]
  },
  {
   "cell_type": "code",
   "execution_count": 85,
   "id": "ed4c4076-2306-4a13-bdd6-5785afe8e091",
   "metadata": {},
   "outputs": [
    {
     "name": "stderr",
     "output_type": "stream",
     "text": [
      "C:\\Users\\angot\\AppData\\Local\\Temp\\ipykernel_19208\\1888600689.py:2: MarkupResemblesLocatorWarning: The input looks more like a filename than markup. You may want to open this file and pass the filehandle into Beautiful Soup.\n",
      "  soup = BeautifulSoup(text, \"html.parser\")\n"
     ]
    }
   ],
   "source": [
    "imdb_data['review'] = imdb_data['review'].apply(preprocess_text)"
   ]
  },
  {
   "cell_type": "code",
   "execution_count": null,
   "id": "542f62c7-90b8-4542-9e6f-8ceb2a714036",
   "metadata": {},
   "outputs": [],
   "source": [
    "__Remove empty reviews__"
   ]
  },
  {
   "cell_type": "code",
   "execution_count": 86,
   "id": "39de130f-f07b-4dfc-8d4d-b027b7381121",
   "metadata": {},
   "outputs": [],
   "source": [
    "imdb_data = imdb_data[imdb_data['review'].str.strip().astype(bool)]"
   ]
  },
  {
   "cell_type": "markdown",
   "id": "bcb97198-31bd-44e2-a532-6d307c56ab26",
   "metadata": {},
   "source": [
    "__Split the dataset into training and testing sets__"
   ]
  },
  {
   "cell_type": "code",
   "execution_count": 87,
   "id": "1fdd42df-b572-49e8-8f2f-cdd9a88b84fa",
   "metadata": {},
   "outputs": [],
   "source": [
    "train_reviews = imdb_data.review[:8000]  # 80% for training\n",
    "train_sentiments = imdb_data.sentiment[:8000]\n",
    "test_reviews = imdb_data.review[8000:]   # 20% for testing\n",
    "test_sentiments = imdb_data.sentiment[8000:]"
   ]
  },
  {
   "cell_type": "markdown",
   "id": "d341f303-1a5e-4cf7-831c-18752472c38f",
   "metadata": {},
   "source": [
    "__Feature extraction using TF-IDF__"
   ]
  },
  {
   "cell_type": "code",
   "execution_count": 88,
   "id": "7e0aeaaf-f0cf-40c1-83c4-cb7a3cd34443",
   "metadata": {},
   "outputs": [],
   "source": [
    "tfidf_vectorizer = TfidfVectorizer(min_df=1, max_df=1.0, use_idf=True, ngram_range=(1,3))\n",
    "tfidf_train_reviews = tfidf_vectorizer.fit_transform(train_reviews)\n",
    "tfidf_test_reviews = tfidf_vectorizer.transform(test_reviews)"
   ]
  },
  {
   "cell_type": "markdown",
   "id": "97d400d9-0be4-49e2-8ff6-b82dce457024",
   "metadata": {},
   "source": [
    "__Labeling the sentiment data__"
   ]
  },
  {
   "cell_type": "code",
   "execution_count": 89,
   "id": "c94ad55c-50a7-407c-bcc3-b4be6087b088",
   "metadata": {},
   "outputs": [],
   "source": [
    "label_binarizer = LabelBinarizer()\n",
    "train_sentiments = label_binarizer.fit_transform(train_sentiments)\n",
    "test_sentiments = label_binarizer.transform(test_sentiments)"
   ]
  },
  {
   "cell_type": "markdown",
   "id": "1ff46faa-56a7-4c74-a349-3dc76dc5dc16",
   "metadata": {},
   "source": [
    "__Train the Logistic Regression model__"
   ]
  },
  {
   "cell_type": "code",
   "execution_count": 90,
   "id": "7614fa77-7221-44ca-ba1e-bfb6fa48a0c3",
   "metadata": {},
   "outputs": [
    {
     "name": "stderr",
     "output_type": "stream",
     "text": [
      "C:\\Users\\angot\\anaconda3\\Lib\\site-packages\\sklearn\\utils\\validation.py:1143: DataConversionWarning: A column-vector y was passed when a 1d array was expected. Please change the shape of y to (n_samples, ), for example using ravel().\n",
      "  y = column_or_1d(y, warn=True)\n"
     ]
    },
    {
     "data": {
      "text/html": [
       "<style>#sk-container-id-2 {color: black;background-color: white;}#sk-container-id-2 pre{padding: 0;}#sk-container-id-2 div.sk-toggleable {background-color: white;}#sk-container-id-2 label.sk-toggleable__label {cursor: pointer;display: block;width: 100%;margin-bottom: 0;padding: 0.3em;box-sizing: border-box;text-align: center;}#sk-container-id-2 label.sk-toggleable__label-arrow:before {content: \"▸\";float: left;margin-right: 0.25em;color: #696969;}#sk-container-id-2 label.sk-toggleable__label-arrow:hover:before {color: black;}#sk-container-id-2 div.sk-estimator:hover label.sk-toggleable__label-arrow:before {color: black;}#sk-container-id-2 div.sk-toggleable__content {max-height: 0;max-width: 0;overflow: hidden;text-align: left;background-color: #f0f8ff;}#sk-container-id-2 div.sk-toggleable__content pre {margin: 0.2em;color: black;border-radius: 0.25em;background-color: #f0f8ff;}#sk-container-id-2 input.sk-toggleable__control:checked~div.sk-toggleable__content {max-height: 200px;max-width: 100%;overflow: auto;}#sk-container-id-2 input.sk-toggleable__control:checked~label.sk-toggleable__label-arrow:before {content: \"▾\";}#sk-container-id-2 div.sk-estimator input.sk-toggleable__control:checked~label.sk-toggleable__label {background-color: #d4ebff;}#sk-container-id-2 div.sk-label input.sk-toggleable__control:checked~label.sk-toggleable__label {background-color: #d4ebff;}#sk-container-id-2 input.sk-hidden--visually {border: 0;clip: rect(1px 1px 1px 1px);clip: rect(1px, 1px, 1px, 1px);height: 1px;margin: -1px;overflow: hidden;padding: 0;position: absolute;width: 1px;}#sk-container-id-2 div.sk-estimator {font-family: monospace;background-color: #f0f8ff;border: 1px dotted black;border-radius: 0.25em;box-sizing: border-box;margin-bottom: 0.5em;}#sk-container-id-2 div.sk-estimator:hover {background-color: #d4ebff;}#sk-container-id-2 div.sk-parallel-item::after {content: \"\";width: 100%;border-bottom: 1px solid gray;flex-grow: 1;}#sk-container-id-2 div.sk-label:hover label.sk-toggleable__label {background-color: #d4ebff;}#sk-container-id-2 div.sk-serial::before {content: \"\";position: absolute;border-left: 1px solid gray;box-sizing: border-box;top: 0;bottom: 0;left: 50%;z-index: 0;}#sk-container-id-2 div.sk-serial {display: flex;flex-direction: column;align-items: center;background-color: white;padding-right: 0.2em;padding-left: 0.2em;position: relative;}#sk-container-id-2 div.sk-item {position: relative;z-index: 1;}#sk-container-id-2 div.sk-parallel {display: flex;align-items: stretch;justify-content: center;background-color: white;position: relative;}#sk-container-id-2 div.sk-item::before, #sk-container-id-2 div.sk-parallel-item::before {content: \"\";position: absolute;border-left: 1px solid gray;box-sizing: border-box;top: 0;bottom: 0;left: 50%;z-index: -1;}#sk-container-id-2 div.sk-parallel-item {display: flex;flex-direction: column;z-index: 1;position: relative;background-color: white;}#sk-container-id-2 div.sk-parallel-item:first-child::after {align-self: flex-end;width: 50%;}#sk-container-id-2 div.sk-parallel-item:last-child::after {align-self: flex-start;width: 50%;}#sk-container-id-2 div.sk-parallel-item:only-child::after {width: 0;}#sk-container-id-2 div.sk-dashed-wrapped {border: 1px dashed gray;margin: 0 0.4em 0.5em 0.4em;box-sizing: border-box;padding-bottom: 0.4em;background-color: white;}#sk-container-id-2 div.sk-label label {font-family: monospace;font-weight: bold;display: inline-block;line-height: 1.2em;}#sk-container-id-2 div.sk-label-container {text-align: center;}#sk-container-id-2 div.sk-container {/* jupyter's `normalize.less` sets `[hidden] { display: none; }` but bootstrap.min.css set `[hidden] { display: none !important; }` so we also need the `!important` here to be able to override the default hidden behavior on the sphinx rendered scikit-learn.org. See: https://github.com/scikit-learn/scikit-learn/issues/21755 */display: inline-block !important;position: relative;}#sk-container-id-2 div.sk-text-repr-fallback {display: none;}</style><div id=\"sk-container-id-2\" class=\"sk-top-container\"><div class=\"sk-text-repr-fallback\"><pre>LogisticRegression(C=1, max_iter=500, random_state=42)</pre><b>In a Jupyter environment, please rerun this cell to show the HTML representation or trust the notebook. <br />On GitHub, the HTML representation is unable to render, please try loading this page with nbviewer.org.</b></div><div class=\"sk-container\" hidden><div class=\"sk-item\"><div class=\"sk-estimator sk-toggleable\"><input class=\"sk-toggleable__control sk-hidden--visually\" id=\"sk-estimator-id-2\" type=\"checkbox\" checked><label for=\"sk-estimator-id-2\" class=\"sk-toggleable__label sk-toggleable__label-arrow\">LogisticRegression</label><div class=\"sk-toggleable__content\"><pre>LogisticRegression(C=1, max_iter=500, random_state=42)</pre></div></div></div></div></div>"
      ],
      "text/plain": [
       "LogisticRegression(C=1, max_iter=500, random_state=42)"
      ]
     },
     "execution_count": 90,
     "metadata": {},
     "output_type": "execute_result"
    }
   ],
   "source": [
    "lr_model = LogisticRegression(penalty='l2', max_iter=500, C=1, random_state=42)\n",
    "lr_model.fit(tfidf_train_reviews, train_sentiments)"
   ]
  },
  {
   "cell_type": "markdown",
   "id": "ff00b587-0a97-4a07-86bf-a19380aeab03",
   "metadata": {},
   "source": [
    "__Function to classify user input__"
   ]
  },
  {
   "cell_type": "code",
   "execution_count": 91,
   "id": "71e267ca-1fa5-49df-9469-950fcbc61092",
   "metadata": {},
   "outputs": [],
   "source": [
    "def classify_review(review_text):\n",
    "    # Preprocess the input text\n",
    "    processed_text = preprocess_text(review_text)\n",
    "    # Transform the input text using the trained TF-IDF vectorizer\n",
    "    tfidf_review = tfidf_vectorizer.transform([processed_text])\n",
    "    # Predict sentiment using the trained model\n",
    "    prediction = lr_model.predict(tfidf_review)\n",
    "    # Convert the prediction to sentiment label\n",
    "    sentiment = label_binarizer.inverse_transform(prediction)[0]\n",
    "    return sentiment"
   ]
  },
  {
   "cell_type": "markdown",
   "id": "4827bd7c-9004-44b0-a699-e520f10974fe",
   "metadata": {},
   "source": [
    "__Get input from the user__"
   ]
  },
  {
   "cell_type": "code",
   "execution_count": 94,
   "id": "923391b3-846b-43b4-a525-facef5dbf3d7",
   "metadata": {},
   "outputs": [
    {
     "name": "stdin",
     "output_type": "stream",
     "text": [
      "Enter a movie review:  Kali is worst,demotivating movie\n"
     ]
    }
   ],
   "source": [
    "user_review = input(\"Enter a movie review: \")"
   ]
  },
  {
   "cell_type": "markdown",
   "id": "401da8e9-f847-452d-901c-d04051ada567",
   "metadata": {},
   "source": [
    "__Classify the input review__"
   ]
  },
  {
   "cell_type": "code",
   "execution_count": 95,
   "id": "ced7b0f1-ea08-49e5-90e5-0c38fcbbb8e6",
   "metadata": {},
   "outputs": [
    {
     "name": "stdout",
     "output_type": "stream",
     "text": [
      "The review is predicted to be: negative\n"
     ]
    }
   ],
   "source": [
    "predicted_sentiment = classify_review(user_review)\n",
    "print(f\"The review is predicted to be: {predicted_sentiment}\")"
   ]
  },
  {
   "cell_type": "code",
   "execution_count": null,
   "id": "0b0c94f0-e106-49b1-a0e7-b663c3bad7a9",
   "metadata": {},
   "outputs": [],
   "source": []
  }
 ],
 "metadata": {
  "kernelspec": {
   "display_name": "Python 3 (ipykernel)",
   "language": "python",
   "name": "python3"
  },
  "language_info": {
   "codemirror_mode": {
    "name": "ipython",
    "version": 3
   },
   "file_extension": ".py",
   "mimetype": "text/x-python",
   "name": "python",
   "nbconvert_exporter": "python",
   "pygments_lexer": "ipython3",
   "version": "3.11.7"
  }
 },
 "nbformat": 4,
 "nbformat_minor": 5
}
